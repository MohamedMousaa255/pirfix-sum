{
 "cells": [
  {
   "cell_type": "code",
   "execution_count": 3,
   "id": "29fef8af",
   "metadata": {},
   "outputs": [],
   "source": [
    "#real mesh\n",
    "mesh=[[1,2,3,5],[4,3,1,2],[5,4,2,3],[1,2,4,3]]\n",
    "##mesh null to store it after calculate perfix sum\n",
    "mesh_p=[[0,0,0,0],[0,0,0,0],[0,0,0,0],[0,0,0,0]]\n",
    "##length of mesh to for loop\n",
    "n=len(mesh)\n",
    "temp=0"
   ]
  },
  {
   "cell_type": "code",
   "execution_count": 4,
   "id": "bd49ba9b",
   "metadata": {},
   "outputs": [],
   "source": [
    "for i in range (n):\n",
    "    for j in range(n):\n",
    "        temp=temp+mesh[i][j]\n",
    "        mesh_p[i][j]=temp\n",
    "        \n",
    "        "
   ]
  },
  {
   "cell_type": "code",
   "execution_count": 5,
   "id": "1099ac64",
   "metadata": {},
   "outputs": [
    {
     "data": {
      "text/plain": [
       "[[1, 3, 6, 11], [15, 18, 19, 21], [26, 30, 32, 35], [36, 38, 42, 45]]"
      ]
     },
     "execution_count": 5,
     "metadata": {},
     "output_type": "execute_result"
    }
   ],
   "source": [
    "mesh_p"
   ]
  }
 ],
 "metadata": {
  "kernelspec": {
   "display_name": "Python 3 (ipykernel)",
   "language": "python",
   "name": "python3"
  },
  "language_info": {
   "codemirror_mode": {
    "name": "ipython",
    "version": 3
   },
   "file_extension": ".py",
   "mimetype": "text/x-python",
   "name": "python",
   "nbconvert_exporter": "python",
   "pygments_lexer": "ipython3",
   "version": "3.9.12"
  }
 },
 "nbformat": 4,
 "nbformat_minor": 5
}
